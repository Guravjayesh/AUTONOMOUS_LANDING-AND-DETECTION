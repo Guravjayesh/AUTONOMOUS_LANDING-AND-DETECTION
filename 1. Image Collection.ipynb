{
 "cells": [
  {
   "cell_type": "markdown",
   "metadata": {},
   "source": [
    "# 1. Import Dependencies"
   ]
  },
  {
   "cell_type": "code",
   "execution_count": 1,
   "metadata": {},
   "outputs": [
    {
     "name": "stdout",
     "output_type": "stream",
     "text": [
      "Requirement already satisfied: opencv-python in d:\\ztensorflow\\tfod\\tfodcourse\\venvironment\\lib\\site-packages (4.5.5.64)\n",
      "Requirement already satisfied: numpy>=1.17.3 in d:\\ztensorflow\\tfod\\tfodcourse\\venvironment\\lib\\site-packages (from opencv-python) (1.22.3)\n"
     ]
    }
   ],
   "source": [
    "!pip install opencv-python\n"
   ]
  },
  {
   "cell_type": "code",
   "execution_count": 2,
   "metadata": {},
   "outputs": [],
   "source": [
    "# Import opencv\n",
    "import cv2 \n",
    "\n",
    "# Import uuid to name our images unqiuely\n",
    "import uuid\n",
    "\n",
    "# Import Operating System\n",
    "import os\n",
    "\n",
    "# Import time\n",
    "import time"
   ]
  },
  {
   "cell_type": "code",
   "execution_count": 3,
   "metadata": {},
   "outputs": [
    {
     "name": "stdout",
     "output_type": "stream",
     "text": [
      "hello\n"
     ]
    }
   ],
   "source": [
    "print('hello')"
   ]
  },
  {
   "cell_type": "code",
   "execution_count": null,
   "metadata": {},
   "outputs": [],
   "source": []
  },
  {
   "cell_type": "code",
   "execution_count": null,
   "metadata": {},
   "outputs": [],
   "source": [
    "os.name\n"
   ]
  },
  {
   "cell_type": "markdown",
   "metadata": {},
   "source": [
    "# 2. Define Images to Collect"
   ]
  },
  {
   "cell_type": "code",
   "execution_count": 8,
   "metadata": {},
   "outputs": [],
   "source": [
    "labels = ['drone', 'thumbsdown', 'thankyou', 'livelong']\n",
    "labels = ['livelong']\n",
    "number_imgs = 5"
   ]
  },
  {
   "cell_type": "code",
   "execution_count": null,
   "metadata": {},
   "outputs": [],
   "source": [
    "labels = ['drone']\n",
    "labels = ['drone']\n",
    "number_imgs = 5"
   ]
  },
  {
   "cell_type": "markdown",
   "metadata": {},
   "source": [
    "# 3. Setup Folders "
   ]
  },
  {
   "cell_type": "code",
   "execution_count": 5,
   "metadata": {},
   "outputs": [],
   "source": [
    "IMAGES_PATH = os.path.join('Tensorflow', 'workspace', 'images', 'collectedimages')"
   ]
  },
  {
   "cell_type": "code",
   "execution_count": 6,
   "metadata": {},
   "outputs": [],
   "source": [
    "if not os.path.exists(IMAGES_PATH):\n",
    "    if os.name == 'posix':\n",
    "        !mkdir -p {IMAGES_PATH}\n",
    "    if os.name == 'nt':\n",
    "         !mkdir {IMAGES_PATH}\n",
    "for label in labels:\n",
    "    path = os.path.join(IMAGES_PATH, label)\n",
    "    if not os.path.exists(path):\n",
    "        !mkdir {path}"
   ]
  },
  {
   "cell_type": "markdown",
   "metadata": {},
   "source": [
    "# 4. Capture Images"
   ]
  },
  {
   "cell_type": "code",
   "execution_count": 9,
   "metadata": {},
   "outputs": [
    {
     "name": "stdout",
     "output_type": "stream",
     "text": [
      "Collecting images for livelong\n",
      "Collecting image 0\n",
      "Collecting image 1\n",
      "Collecting image 2\n",
      "Collecting image 3\n",
      "Collecting image 4\n"
     ]
    }
   ],
   "source": [
    "for label in labels:\n",
    "    cap = cv2.VideoCapture(0)\n",
    "    print('Collecting images for {}'.format(label))\n",
    "    time.sleep(5)\n",
    "    for imgnum in range(number_imgs):\n",
    "        print('Collecting image {}'.format(imgnum))\n",
    "        ret, frame = cap.read()\n",
    "        imgname = os.path.join(IMAGES_PATH,label,label+'.'+'{}.jpg'.format(str(uuid.uuid1())))\n",
    "        cv2.imwrite(imgname, frame)\n",
    "        cv2.imshow('frame', frame)\n",
    "        time.sleep(2)\n",
    "\n",
    "        if cv2.waitKey(1) & 0xFF == ord('q'):\n",
    "            break\n",
    "cap.release()\n",
    "cv2.destroyAllWindows()"
   ]
  },
  {
   "cell_type": "markdown",
   "metadata": {},
   "source": [
    "# 5. Image Labelling"
   ]
  },
  {
   "cell_type": "code",
   "execution_count": 4,
   "metadata": {},
   "outputs": [
    {
     "name": "stdout",
     "output_type": "stream",
     "text": [
      "Requirement already satisfied: pyqt5 in d:\\ztensorflow\\tfod\\tfodcourse\\venvironment\\lib\\site-packages (5.15.6)\n",
      "Requirement already satisfied: lxml in d:\\ztensorflow\\tfod\\tfodcourse\\venvironment\\lib\\site-packages (4.8.0)\n",
      "Requirement already satisfied: PyQt5-sip<13,>=12.8 in d:\\ztensorflow\\tfod\\tfodcourse\\venvironment\\lib\\site-packages (from pyqt5) (12.9.1)\n",
      "Requirement already satisfied: PyQt5-Qt5>=5.15.2 in d:\\ztensorflow\\tfod\\tfodcourse\\venvironment\\lib\\site-packages (from pyqt5) (5.15.2)\n"
     ]
    }
   ],
   "source": [
    "!pip install --upgrade pyqt5 lxml"
   ]
  },
  {
   "cell_type": "code",
   "execution_count": 11,
   "metadata": {},
   "outputs": [
    {
     "name": "stdout",
     "output_type": "stream",
     "text": [
      "Package           Version\n",
      "----------------- --------\n",
      "asttokens         2.0.5\n",
      "backcall          0.2.0\n",
      "colorama          0.4.4\n",
      "debugpy           1.6.0\n",
      "decorator         5.1.1\n",
      "entrypoints       0.4\n",
      "executing         0.8.3\n",
      "ipykernel         6.12.1\n",
      "ipython           8.2.0\n",
      "jedi              0.18.1\n",
      "jupyter-client    7.2.2\n",
      "jupyter-core      4.9.2\n",
      "lxml              4.8.0\n",
      "matplotlib-inline 0.1.3\n",
      "nest-asyncio      1.5.5\n",
      "numpy             1.22.3\n",
      "opencv-python     4.5.5.64\n",
      "packaging         21.3\n",
      "parso             0.8.3\n",
      "pickleshare       0.7.5\n",
      "pip               22.0.4\n",
      "prompt-toolkit    3.0.29\n",
      "psutil            5.9.0\n",
      "pure-eval         0.2.2\n",
      "Pygments          2.11.2\n",
      "pyparsing         3.0.7\n",
      "PyQt5             5.15.6\n",
      "PyQt5-Qt5         5.15.2\n",
      "PyQt5-sip         12.9.1\n",
      "python-dateutil   2.8.2\n",
      "pywin32           303\n",
      "pyzmq             22.3.0\n",
      "setuptools        49.2.1\n",
      "six               1.16.0\n",
      "stack-data        0.2.0\n",
      "tornado           6.1\n",
      "traitlets         5.1.1\n",
      "wcwidth           0.2.5\n"
     ]
    }
   ],
   "source": [
    "!pip list\n"
   ]
  },
  {
   "cell_type": "code",
   "execution_count": 5,
   "metadata": {},
   "outputs": [],
   "source": [
    "LABELIMG_PATH = os.path.join('Tensorflow', 'labelimg')"
   ]
  },
  {
   "cell_type": "code",
   "execution_count": 20,
   "metadata": {},
   "outputs": [],
   "source": [
    "if not os.path.exists(LABELIMG_PATH):\n",
    "    !mkdir {LABELIMG_PATH}\n",
    "    !git clone https://github.com/tzutalin/labelImg {LABELIMG_PATH}"
   ]
  },
  {
   "cell_type": "code",
   "execution_count": 21,
   "metadata": {},
   "outputs": [],
   "source": [
    "if os.name == 'posix':\n",
    "    !make qt5py3\n",
    "if os.name =='nt':\n",
    "    !cd {LABELIMG_PATH} && pyrcc5 -o libs/resources.py resources.qrc"
   ]
  },
  {
   "cell_type": "code",
   "execution_count": 6,
   "metadata": {},
   "outputs": [
    {
     "name": "stdout",
     "output_type": "stream",
     "text": [
      "Image:D:\\ZTENSORFLOW\\tfod\\TFODCourse\\Tensorflow\\workspace\\images\\collectedimages\\thumbsdown\\thumbsdown.cb9e2823-b7bf-11ec-ad4b-a5dca6b4ee86.jpg -> Annotation:D:/ZTENSORFLOW/tfod/TFODCourse/Tensorflow/workspace/images/collectedimages/thumbsdown\\thumbsdown.cb9e2823-b7bf-11ec-ad4b-a5dca6b4ee86.txt\n",
      "[('ThumbsDown', [(227, 180), (331, 180), (331, 357), (227, 357)], None, None, False)]\n",
      "[('ThumbsDown', [(225, 153), (323, 153), (323, 373), (225, 373)], None, None, False)]\n",
      "Image:D:\\ZTENSORFLOW\\tfod\\TFODCourse\\Tensorflow\\workspace\\images\\collectedimages\\thumbsdown\\thumbsdown.ccd292f6-b7bf-11ec-a86f-a5dca6b4ee86.jpg -> Annotation:D:/ZTENSORFLOW/tfod/TFODCourse/Tensorflow/workspace/images/collectedimages/thumbsdown\\thumbsdown.ccd292f6-b7bf-11ec-a86f-a5dca6b4ee86.txt\n",
      "Image:D:\\ZTENSORFLOW\\tfod\\TFODCourse\\Tensorflow\\workspace\\images\\collectedimages\\thumbsdown\\thumbsdown.ccd292f6-b7bf-11ec-a86f-a5dca6b4ee86.jpg -> Annotation:D:/ZTENSORFLOW/tfod/TFODCourse/Tensorflow/workspace/images/collectedimages/thumbsdown\\thumbsdown.ccd292f6-b7bf-11ec-a86f-a5dca6b4ee86.xml\n",
      "Image:D:\\ZTENSORFLOW\\tfod\\TFODCourse\\Tensorflow\\workspace\\images\\collectedimages\\thumbsdown\\thumbsdown.cb9e2823-b7bf-11ec-ad4b-a5dca6b4ee86.jpg -> Annotation:D:/ZTENSORFLOW/tfod/TFODCourse/Tensorflow/workspace/images/collectedimages/thumbsdown\\thumbsdown.cb9e2823-b7bf-11ec-ad4b-a5dca6b4ee86.xml\n",
      "Image:D:\\ZTENSORFLOW\\tfod\\TFODCourse\\Tensorflow\\workspace\\images\\collectedimages\\thumbsdown\\thumbsdown.ccd292f6-b7bf-11ec-a86f-a5dca6b4ee86.jpg -> Annotation:D:/ZTENSORFLOW/tfod/TFODCourse/Tensorflow/workspace/images/collectedimages/thumbsdown\\thumbsdown.ccd292f6-b7bf-11ec-a86f-a5dca6b4ee86.xml\n",
      "Cancel creation.\n",
      "Image:D:\\ZTENSORFLOW\\tfod\\TFODCourse\\Tensorflow\\workspace\\images\\collectedimages\\thumbsdown\\thumbsdown.ce060c43-b7bf-11ec-893d-a5dca6b4ee86.jpg -> Annotation:D:/ZTENSORFLOW/tfod/TFODCourse/Tensorflow/workspace/images/collectedimages/thumbsdown\\thumbsdown.ce060c43-b7bf-11ec-893d-a5dca6b4ee86.xml\n",
      "Image:D:\\ZTENSORFLOW\\tfod\\TFODCourse\\Tensorflow\\workspace\\images\\collectedimages\\thumbsdown\\thumbsdown.cf38842d-b7bf-11ec-990e-a5dca6b4ee86.jpg -> Annotation:D:/ZTENSORFLOW/tfod/TFODCourse/Tensorflow/workspace/images/collectedimages/thumbsdown\\thumbsdown.cf38842d-b7bf-11ec-990e-a5dca6b4ee86.xml\n",
      "Cancel creation.\n",
      "Image:D:\\ZTENSORFLOW\\tfod\\TFODCourse\\Tensorflow\\workspace\\images\\collectedimages\\thumbsdown\\thumbsdown.d06c10f7-b7bf-11ec-8d0c-a5dca6b4ee86.jpg -> Annotation:D:/ZTENSORFLOW/tfod/TFODCourse/Tensorflow/workspace/images/collectedimages/thumbsdown\\thumbsdown.d06c10f7-b7bf-11ec-8d0c-a5dca6b4ee86.xml\n",
      "Image:D:\\ZTENSORFLOW\\tfod\\TFODCourse\\Tensorflow\\workspace\\images\\collectedimages\\thumbsup\\thumbsup.c2d9eef9-b7bf-11ec-b839-a5dca6b4ee86.jpg -> Annotation:D:/ZTENSORFLOW/tfod/TFODCourse/Tensorflow/workspace/images/collectedimages/thumbsdown\\thumbsup.c2d9eef9-b7bf-11ec-b839-a5dca6b4ee86.xml\n",
      "Cancel creation.\n",
      "Image:D:\\ZTENSORFLOW\\tfod\\TFODCourse\\Tensorflow\\workspace\\images\\collectedimages\\thumbsup\\thumbsup.c1a56452-b7bf-11ec-924b-a5dca6b4ee86.jpg -> Annotation:D:/ZTENSORFLOW/tfod/TFODCourse/Tensorflow/workspace/images/collectedimages/thumbsdown\\thumbsup.c1a56452-b7bf-11ec-924b-a5dca6b4ee86.xml\n",
      "Image:D:\\ZTENSORFLOW\\tfod\\TFODCourse\\Tensorflow\\workspace\\images\\collectedimages\\thumbsup\\thumbsup.c1a56452-b7bf-11ec-924b-a5dca6b4ee86.jpg -> Annotation:D:/ZTENSORFLOW/tfod/TFODCourse/Tensorflow/workspace/images/collectedimages/thumbsdown\\thumbsup.c1a56452-b7bf-11ec-924b-a5dca6b4ee86.xml\n",
      "Image:D:\\ZTENSORFLOW\\tfod\\TFODCourse\\Tensorflow\\workspace\\images\\collectedimages\\thumbsup\\thumbsup.c2d9eef9-b7bf-11ec-b839-a5dca6b4ee86.jpg -> Annotation:D:/ZTENSORFLOW/tfod/TFODCourse/Tensorflow/workspace/images/collectedimages/thumbsdown\\thumbsup.c2d9eef9-b7bf-11ec-b839-a5dca6b4ee86.xml\n",
      "Image:D:\\ZTENSORFLOW\\tfod\\TFODCourse\\Tensorflow\\workspace\\images\\collectedimages\\thumbsup\\thumbsup.c541fc71-b7bf-11ec-a9a4-a5dca6b4ee86.jpg -> Annotation:D:/ZTENSORFLOW/tfod/TFODCourse/Tensorflow/workspace/images/collectedimages/thumbsdown\\thumbsup.c541fc71-b7bf-11ec-a9a4-a5dca6b4ee86.xml\n",
      "Image:D:\\ZTENSORFLOW\\tfod\\TFODCourse\\Tensorflow\\workspace\\images\\collectedimages\\thumbsup\\thumbsup.c0654b62-b7bf-11ec-b14f-a5dca6b4ee86.jpg -> Annotation:D:/ZTENSORFLOW/tfod/TFODCourse/Tensorflow/workspace/images/collectedimages/thumbsdown\\thumbsup.c0654b62-b7bf-11ec-b14f-a5dca6b4ee86.xml\n"
     ]
    }
   ],
   "source": [
    "!cd {LABELIMG_PATH} && python labelImg.py"
   ]
  },
  {
   "cell_type": "markdown",
   "metadata": {},
   "source": [
    "# 6. Move them into a Training and Testing Partition"
   ]
  },
  {
   "cell_type": "markdown",
   "metadata": {},
   "source": [
    "# OPTIONAL - 7. Compress them for Colab Training"
   ]
  },
  {
   "cell_type": "code",
   "execution_count": 20,
   "metadata": {},
   "outputs": [],
   "source": [
    "TRAIN_PATH = os.path.join('Tensorflow', 'workspace', 'images', 'train')\n",
    "TEST_PATH = os.path.join('Tensorflow', 'workspace', 'images', 'test')\n",
    "ARCHIVE_PATH = os.path.join('Tensorflow', 'workspace', 'images', 'archive.tar.gz')"
   ]
  },
  {
   "cell_type": "code",
   "execution_count": 21,
   "metadata": {},
   "outputs": [],
   "source": [
    "!tar -czf {ARCHIVE_PATH} {TRAIN_PATH} {TEST_PATH}"
   ]
  },
  {
   "cell_type": "code",
   "execution_count": null,
   "metadata": {},
   "outputs": [],
   "source": []
  }
 ],
 "metadata": {
  "kernelspec": {
   "display_name": "venvironmentj",
   "language": "python",
   "name": "venvironmentj"
  },
  "language_info": {
   "codemirror_mode": {
    "name": "ipython",
    "version": 3
   },
   "file_extension": ".py",
   "mimetype": "text/x-python",
   "name": "python",
   "nbconvert_exporter": "python",
   "pygments_lexer": "ipython3",
   "version": "3.7.4"
  }
 },
 "nbformat": 4,
 "nbformat_minor": 2
}
